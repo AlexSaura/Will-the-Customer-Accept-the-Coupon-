{
 "cells": [
  {
   "cell_type": "markdown",
   "metadata": {
    "id": "CcUT6Fon_qRE"
   },
   "source": [
    "### Required Assignment 5.1: Will the Customer Accept the Coupon?\n",
    "\n",
    "**Context**\n",
    "\n",
    "Imagine driving through town and a coupon is delivered to your cell phone for a restaurant near where you are driving. Would you accept that coupon and take a short detour to the restaurant? Would you accept the coupon but use it on a subsequent trip? Would you ignore the coupon entirely? What if the coupon was for a bar instead of a restaurant? What about a coffee house? Would you accept a bar coupon with a minor passenger in the car? What about if it was just you and your partner in the car? Would weather impact the rate of acceptance? What about the time of day?\n",
    "\n",
    "Obviously, proximity to the business is a factor on whether the coupon is delivered to the driver or not, but what are the factors that determine whether a driver accepts the coupon once it is delivered to them? How would you determine whether a driver is likely to accept a coupon?\n",
    "\n",
    "**Overview**\n",
    "\n",
    "The goal of this project is to use what you know about visualizations and probability distributions to distinguish between customers who accepted a driving coupon versus those that did not.\n",
    "\n",
    "**Data**\n",
    "\n",
    "This data comes to us from the UCI Machine Learning repository and was collected via a survey on Amazon Mechanical Turk. The survey describes different driving scenarios including the destination, current time, weather, passenger, etc., and then ask the person whether he will accept the coupon if he is the driver. Answers that the user will drive there ‘right away’ or ‘later before the coupon expires’ are labeled as ‘Y = 1’ and answers ‘no, I do not want the coupon’ are labeled as ‘Y = 0’.  There are five different types of coupons -- less expensive restaurants (under \\$20), coffee houses, carry out & take away, bar, and more expensive restaurants (\\$20 - $50)."
   ]
  },
  {
   "cell_type": "markdown",
   "metadata": {
    "id": "1wORvMBJ_qRF"
   },
   "source": [
    "**Deliverables**\n",
    "\n",
    "Your final product should be a brief report that highlights the differences between customers who did and did not accept the coupons.  To explore the data you will utilize your knowledge of plotting, statistical summaries, and visualization using Python. You will publish your findings in a public facing github repository as your first portfolio piece.\n",
    "\n",
    "\n",
    "\n"
   ]
  },
  {
   "cell_type": "markdown",
   "metadata": {
    "id": "pG6_Ym6q_qRG"
   },
   "source": [
    "### Data Description\n",
    "Keep in mind that these values mentioned below are average values.\n",
    "\n",
    "The attributes of this data set include:\n",
    "1. User attributes\n",
    "    -  Gender: male, female\n",
    "    -  Age: below 21, 21 to 25, 26 to 30, etc.\n",
    "    -  Marital Status: single, married partner, unmarried partner, or widowed\n",
    "    -  Number of children: 0, 1, or more than 1\n",
    "    -  Education: high school, bachelors degree, associates degree, or graduate degree\n",
    "    -  Occupation: architecture & engineering, business & financial, etc.\n",
    "    -  Annual income: less than \\\\$12500, \\\\$12500 - \\\\$24999, \\\\$25000 - \\\\$37499, etc.\n",
    "    -  Number of times that he/she goes to a bar: 0, less than 1, 1 to 3, 4 to 8 or greater than 8\n",
    "    -  Number of times that he/she buys takeaway food: 0, less than 1, 1 to 3, 4 to 8 or greater\n",
    "    than 8\n",
    "    -  Number of times that he/she goes to a coffee house: 0, less than 1, 1 to 3, 4 to 8 or\n",
    "    greater than 8\n",
    "    -  Number of times that he/she eats at a restaurant with average expense less than \\\\$20 per\n",
    "    person: 0, less than 1, 1 to 3, 4 to 8 or greater than 8\n",
    "    -  Number of times that he/she goes to a bar: 0, less than 1, 1 to 3, 4 to 8 or greater than 8\n",
    "    \n",
    "\n",
    "2. Contextual attributes\n",
    "    - Driving destination: home, work, or no urgent destination\n",
    "    - Location of user, coupon and destination: we provide a map to show the geographical\n",
    "    location of the user, destination, and the venue, and we mark the distance between each\n",
    "    two places with time of driving. The user can see whether the venue is in the same\n",
    "    direction as the destination.\n",
    "    - Weather: sunny, rainy, or snowy\n",
    "    - Temperature: 30F, 55F, or 80F\n",
    "    - Time: 10AM, 2PM, or 6PM\n",
    "    - Passenger: alone, partner, kid(s), or friend(s)\n",
    "\n",
    "\n",
    "3. Coupon attributes\n",
    "    - time before it expires: 2 hours or one day"
   ]
  },
  {
   "cell_type": "code",
   "execution_count": 4,
   "metadata": {
    "id": "dzNoP3o__qRG"
   },
   "outputs": [],
   "source": [
    "import matplotlib.pyplot as plt\n",
    "import seaborn as sns\n",
    "import pandas as pd\n",
    "import numpy as np"
   ]
  },
  {
   "cell_type": "markdown",
   "metadata": {
    "id": "Ct8pI1uE_qRG"
   },
   "source": [
    "### Problems\n",
    "\n",
    "Use the prompts below to get started with your data analysis.  \n",
    "\n",
    "1. Read in the `coupons.csv` file.\n",
    "\n",
    "\n"
   ]
  },
  {
   "cell_type": "code",
   "execution_count": 6,
   "metadata": {
    "id": "X0vbffYg_qRH"
   },
   "outputs": [],
   "source": [
    "data = pd.read_csv('data/coupons.csv')"
   ]
  },
  {
   "cell_type": "code",
   "execution_count": 9,
   "metadata": {
    "id": "TXofQ_DF_qRH",
    "outputId": "2fc96a2c-1112-4b54-f24f-dbb9bc88abfb"
   },
   "outputs": [
    {
     "data": {
      "text/html": [
       "<div>\n",
       "<style scoped>\n",
       "    .dataframe tbody tr th:only-of-type {\n",
       "        vertical-align: middle;\n",
       "    }\n",
       "\n",
       "    .dataframe tbody tr th {\n",
       "        vertical-align: top;\n",
       "    }\n",
       "\n",
       "    .dataframe thead th {\n",
       "        text-align: right;\n",
       "    }\n",
       "</style>\n",
       "<table border=\"1\" class=\"dataframe\">\n",
       "  <thead>\n",
       "    <tr style=\"text-align: right;\">\n",
       "      <th></th>\n",
       "      <th>destination</th>\n",
       "      <th>passanger</th>\n",
       "      <th>weather</th>\n",
       "      <th>temperature</th>\n",
       "      <th>time</th>\n",
       "      <th>coupon</th>\n",
       "      <th>expiration</th>\n",
       "      <th>gender</th>\n",
       "      <th>age</th>\n",
       "      <th>maritalStatus</th>\n",
       "      <th>...</th>\n",
       "      <th>CoffeeHouse</th>\n",
       "      <th>CarryAway</th>\n",
       "      <th>RestaurantLessThan20</th>\n",
       "      <th>Restaurant20To50</th>\n",
       "      <th>toCoupon_GEQ5min</th>\n",
       "      <th>toCoupon_GEQ15min</th>\n",
       "      <th>toCoupon_GEQ25min</th>\n",
       "      <th>direction_same</th>\n",
       "      <th>direction_opp</th>\n",
       "      <th>Y</th>\n",
       "    </tr>\n",
       "  </thead>\n",
       "  <tbody>\n",
       "    <tr>\n",
       "      <th>0</th>\n",
       "      <td>No Urgent Place</td>\n",
       "      <td>Alone</td>\n",
       "      <td>Sunny</td>\n",
       "      <td>55</td>\n",
       "      <td>2PM</td>\n",
       "      <td>Restaurant(&lt;20)</td>\n",
       "      <td>1d</td>\n",
       "      <td>Female</td>\n",
       "      <td>21</td>\n",
       "      <td>Unmarried partner</td>\n",
       "      <td>...</td>\n",
       "      <td>never</td>\n",
       "      <td>NaN</td>\n",
       "      <td>4~8</td>\n",
       "      <td>1~3</td>\n",
       "      <td>1</td>\n",
       "      <td>0</td>\n",
       "      <td>0</td>\n",
       "      <td>0</td>\n",
       "      <td>1</td>\n",
       "      <td>1</td>\n",
       "    </tr>\n",
       "    <tr>\n",
       "      <th>1</th>\n",
       "      <td>No Urgent Place</td>\n",
       "      <td>Friend(s)</td>\n",
       "      <td>Sunny</td>\n",
       "      <td>80</td>\n",
       "      <td>10AM</td>\n",
       "      <td>Coffee House</td>\n",
       "      <td>2h</td>\n",
       "      <td>Female</td>\n",
       "      <td>21</td>\n",
       "      <td>Unmarried partner</td>\n",
       "      <td>...</td>\n",
       "      <td>never</td>\n",
       "      <td>NaN</td>\n",
       "      <td>4~8</td>\n",
       "      <td>1~3</td>\n",
       "      <td>1</td>\n",
       "      <td>0</td>\n",
       "      <td>0</td>\n",
       "      <td>0</td>\n",
       "      <td>1</td>\n",
       "      <td>0</td>\n",
       "    </tr>\n",
       "    <tr>\n",
       "      <th>2</th>\n",
       "      <td>No Urgent Place</td>\n",
       "      <td>Friend(s)</td>\n",
       "      <td>Sunny</td>\n",
       "      <td>80</td>\n",
       "      <td>10AM</td>\n",
       "      <td>Carry out &amp; Take away</td>\n",
       "      <td>2h</td>\n",
       "      <td>Female</td>\n",
       "      <td>21</td>\n",
       "      <td>Unmarried partner</td>\n",
       "      <td>...</td>\n",
       "      <td>never</td>\n",
       "      <td>NaN</td>\n",
       "      <td>4~8</td>\n",
       "      <td>1~3</td>\n",
       "      <td>1</td>\n",
       "      <td>1</td>\n",
       "      <td>0</td>\n",
       "      <td>0</td>\n",
       "      <td>1</td>\n",
       "      <td>1</td>\n",
       "    </tr>\n",
       "    <tr>\n",
       "      <th>3</th>\n",
       "      <td>No Urgent Place</td>\n",
       "      <td>Friend(s)</td>\n",
       "      <td>Sunny</td>\n",
       "      <td>80</td>\n",
       "      <td>2PM</td>\n",
       "      <td>Coffee House</td>\n",
       "      <td>2h</td>\n",
       "      <td>Female</td>\n",
       "      <td>21</td>\n",
       "      <td>Unmarried partner</td>\n",
       "      <td>...</td>\n",
       "      <td>never</td>\n",
       "      <td>NaN</td>\n",
       "      <td>4~8</td>\n",
       "      <td>1~3</td>\n",
       "      <td>1</td>\n",
       "      <td>1</td>\n",
       "      <td>0</td>\n",
       "      <td>0</td>\n",
       "      <td>1</td>\n",
       "      <td>0</td>\n",
       "    </tr>\n",
       "    <tr>\n",
       "      <th>4</th>\n",
       "      <td>No Urgent Place</td>\n",
       "      <td>Friend(s)</td>\n",
       "      <td>Sunny</td>\n",
       "      <td>80</td>\n",
       "      <td>2PM</td>\n",
       "      <td>Coffee House</td>\n",
       "      <td>1d</td>\n",
       "      <td>Female</td>\n",
       "      <td>21</td>\n",
       "      <td>Unmarried partner</td>\n",
       "      <td>...</td>\n",
       "      <td>never</td>\n",
       "      <td>NaN</td>\n",
       "      <td>4~8</td>\n",
       "      <td>1~3</td>\n",
       "      <td>1</td>\n",
       "      <td>1</td>\n",
       "      <td>0</td>\n",
       "      <td>0</td>\n",
       "      <td>1</td>\n",
       "      <td>0</td>\n",
       "    </tr>\n",
       "  </tbody>\n",
       "</table>\n",
       "<p>5 rows × 26 columns</p>\n",
       "</div>"
      ],
      "text/plain": [
       "       destination  passanger weather  temperature  time  \\\n",
       "0  No Urgent Place      Alone   Sunny           55   2PM   \n",
       "1  No Urgent Place  Friend(s)   Sunny           80  10AM   \n",
       "2  No Urgent Place  Friend(s)   Sunny           80  10AM   \n",
       "3  No Urgent Place  Friend(s)   Sunny           80   2PM   \n",
       "4  No Urgent Place  Friend(s)   Sunny           80   2PM   \n",
       "\n",
       "                  coupon expiration  gender age      maritalStatus  ...  \\\n",
       "0        Restaurant(<20)         1d  Female  21  Unmarried partner  ...   \n",
       "1           Coffee House         2h  Female  21  Unmarried partner  ...   \n",
       "2  Carry out & Take away         2h  Female  21  Unmarried partner  ...   \n",
       "3           Coffee House         2h  Female  21  Unmarried partner  ...   \n",
       "4           Coffee House         1d  Female  21  Unmarried partner  ...   \n",
       "\n",
       "   CoffeeHouse CarryAway RestaurantLessThan20 Restaurant20To50  \\\n",
       "0        never       NaN                  4~8              1~3   \n",
       "1        never       NaN                  4~8              1~3   \n",
       "2        never       NaN                  4~8              1~3   \n",
       "3        never       NaN                  4~8              1~3   \n",
       "4        never       NaN                  4~8              1~3   \n",
       "\n",
       "  toCoupon_GEQ5min toCoupon_GEQ15min toCoupon_GEQ25min direction_same  \\\n",
       "0                1                 0                 0              0   \n",
       "1                1                 0                 0              0   \n",
       "2                1                 1                 0              0   \n",
       "3                1                 1                 0              0   \n",
       "4                1                 1                 0              0   \n",
       "\n",
       "  direction_opp  Y  \n",
       "0             1  1  \n",
       "1             1  0  \n",
       "2             1  1  \n",
       "3             1  0  \n",
       "4             1  0  \n",
       "\n",
       "[5 rows x 26 columns]"
      ]
     },
     "execution_count": 9,
     "metadata": {},
     "output_type": "execute_result"
    }
   ],
   "source": [
    "data.head()"
   ]
  },
  {
   "cell_type": "markdown",
   "metadata": {
    "id": "GcDs78ZH_qRH"
   },
   "source": [
    "2. Investigate the dataset for missing or problematic data."
   ]
  },
  {
   "cell_type": "code",
   "execution_count": 12,
   "metadata": {
    "id": "6CwL6oWj_qRH"
   },
   "outputs": [
    {
     "data": {
      "text/plain": [
       "car                     12576\n",
       "Bar                       107\n",
       "CoffeeHouse               217\n",
       "CarryAway                 151\n",
       "RestaurantLessThan20      130\n",
       "Restaurant20To50          189\n",
       "dtype: int64"
      ]
     },
     "execution_count": 12,
     "metadata": {},
     "output_type": "execute_result"
    }
   ],
   "source": [
    "missing_values = data.isnull().sum()\n",
    "\n",
    "missing_values[missing_values > 0]"
   ]
  },
  {
   "cell_type": "markdown",
   "metadata": {
    "id": "bSdVSpYB_qRH"
   },
   "source": [
    "3. Decide what to do about your missing data -- drop, replace, other..."
   ]
  },
  {
   "cell_type": "code",
   "execution_count": 15,
   "metadata": {
    "id": "tyvoAC5F_qRI"
   },
   "outputs": [],
   "source": [
    "data_cleaned = data.dropna()"
   ]
  },
  {
   "cell_type": "markdown",
   "metadata": {
    "id": "YE6oJbXd_qRI"
   },
   "source": [
    "4. What proportion of the total observations chose to accept the coupon?\n",
    "\n"
   ]
  },
  {
   "cell_type": "code",
   "execution_count": 18,
   "metadata": {
    "id": "86GGqBTv_qRI"
   },
   "outputs": [
    {
     "name": "stdout",
     "output_type": "stream",
     "text": [
      "Proportion of accepted coupons: 56.84%\n"
     ]
    }
   ],
   "source": [
    "acceptance_rate = data['Y'].mean()\n",
    "print(f\"Proportion of accepted coupons: {acceptance_rate:.2%}\")"
   ]
  },
  {
   "cell_type": "markdown",
   "metadata": {
    "id": "vflz0DoE_qRI"
   },
   "source": [
    "5. Use a bar plot to visualize the `coupon` column."
   ]
  },
  {
   "cell_type": "code",
   "execution_count": 21,
   "metadata": {
    "id": "dHFh3E45_qRI"
   },
   "outputs": [
    {
     "data": {
      "image/png": "[encoded data removed]",
      "text/plain": [
       "<Figure size 640x480 with 1 Axes>"
      ]
     },
     "metadata": {},
     "output_type": "display_data"
    }
   ],
   "source": [
    "sns.countplot(x='Y', data=data)\n",
    "plt.xlabel('Accepted Coupon (1 = Yes, 0 = No)')\n",
    "plt.ylabel('Count')\n",
    "plt.title('Coupon Acceptance Distribution')\n",
    "plt.show()"
   ]
  },
  {
   "cell_type": "markdown",
   "metadata": {
    "id": "Qw4lCyx2_qRI"
   },
   "source": [
    "6. Use a histogram to visualize the temperature column."
   ]
  },
  {
   "cell_type": "code",
   "execution_count": 24,
   "metadata": {
    "id": "Yg9Anv71_qRI"
   },
   "outputs": [
    {
     "data": {
      "image/png": "[encoded data removed]",
      "text/plain": [
       "<Figure size 640x480 with 1 Axes>"
      ]
     },
     "metadata": {},
     "output_type": "display_data"
    }
   ],
   "source": [
    "# Histogram of temperature\n",
    "sns.histplot(data['temperature'], bins=10, kde=True)\n",
    "plt.xlabel('Temperature')\n",
    "plt.ylabel('Frequency')\n",
    "plt.title('Temperature Distribution')\n",
    "plt.show()"
   ]
  },
  {
   "cell_type": "code",
   "execution_count": null,
   "metadata": {
    "id": "zLtOaJQk_qRI"
   },
   "outputs": [],
   "source": []
  },
  {
   "cell_type": "code",
   "execution_count": null,
   "metadata": {
    "id": "7GBHZKBp_qRJ"
   },
   "outputs": [],
   "source": []
  },
  {
   "cell_type": "code",
   "execution_count": null,
   "metadata": {
    "id": "Y5nBUA-j_qRJ"
   },
   "outputs": [],
   "source": []
  },
  {
   "cell_type": "code",
   "execution_count": null,
   "metadata": {
    "id": "ShcUC-Vm_qRJ"
   },
   "outputs": [],
   "source": []
  },
  {
   "cell_type": "markdown",
   "metadata": {
    "id": "FupfgeJk_qRJ"
   },
   "source": [
    "**Investigating the Bar Coupons**\n",
    "\n",
    "Now, we will lead you through an exploration of just the bar related coupons.  \n",
    "\n",
    "1. Create a new `DataFrame` that contains just the bar coupons.\n"
   ]
  },
  {
   "cell_type": "code",
   "execution_count": 31,
   "metadata": {
    "id": "tMBlWuGq_qRJ"
   },
   "outputs": [
    {
     "data": {
      "text/html": [
       "<div>\n",
       "<style scoped>\n",
       "    .dataframe tbody tr th:only-of-type {\n",
       "        vertical-align: middle;\n",
       "    }\n",
       "\n",
       "    .dataframe tbody tr th {\n",
       "        vertical-align: top;\n",
       "    }\n",
       "\n",
       "    .dataframe thead th {\n",
       "        text-align: right;\n",
       "    }\n",
       "</style>\n",
       "<table border=\"1\" class=\"dataframe\">\n",
       "  <thead>\n",
       "    <tr style=\"text-align: right;\">\n",
       "      <th></th>\n",
       "      <th>destination</th>\n",
       "      <th>passanger</th>\n",
       "      <th>weather</th>\n",
       "      <th>temperature</th>\n",
       "      <th>time</th>\n",
       "      <th>coupon</th>\n",
       "      <th>expiration</th>\n",
       "      <th>gender</th>\n",
       "      <th>age</th>\n",
       "      <th>maritalStatus</th>\n",
       "      <th>...</th>\n",
       "      <th>CoffeeHouse</th>\n",
       "      <th>CarryAway</th>\n",
       "      <th>RestaurantLessThan20</th>\n",
       "      <th>Restaurant20To50</th>\n",
       "      <th>toCoupon_GEQ5min</th>\n",
       "      <th>toCoupon_GEQ15min</th>\n",
       "      <th>toCoupon_GEQ25min</th>\n",
       "      <th>direction_same</th>\n",
       "      <th>direction_opp</th>\n",
       "      <th>Y</th>\n",
       "    </tr>\n",
       "  </thead>\n",
       "  <tbody>\n",
       "    <tr>\n",
       "      <th>9</th>\n",
       "      <td>No Urgent Place</td>\n",
       "      <td>Kid(s)</td>\n",
       "      <td>Sunny</td>\n",
       "      <td>80</td>\n",
       "      <td>10AM</td>\n",
       "      <td>Bar</td>\n",
       "      <td>1d</td>\n",
       "      <td>Female</td>\n",
       "      <td>21</td>\n",
       "      <td>Unmarried partner</td>\n",
       "      <td>...</td>\n",
       "      <td>never</td>\n",
       "      <td>NaN</td>\n",
       "      <td>4~8</td>\n",
       "      <td>1~3</td>\n",
       "      <td>1</td>\n",
       "      <td>1</td>\n",
       "      <td>0</td>\n",
       "      <td>0</td>\n",
       "      <td>1</td>\n",
       "      <td>0</td>\n",
       "    </tr>\n",
       "    <tr>\n",
       "      <th>13</th>\n",
       "      <td>Home</td>\n",
       "      <td>Alone</td>\n",
       "      <td>Sunny</td>\n",
       "      <td>55</td>\n",
       "      <td>6PM</td>\n",
       "      <td>Bar</td>\n",
       "      <td>1d</td>\n",
       "      <td>Female</td>\n",
       "      <td>21</td>\n",
       "      <td>Unmarried partner</td>\n",
       "      <td>...</td>\n",
       "      <td>never</td>\n",
       "      <td>NaN</td>\n",
       "      <td>4~8</td>\n",
       "      <td>1~3</td>\n",
       "      <td>1</td>\n",
       "      <td>0</td>\n",
       "      <td>0</td>\n",
       "      <td>1</td>\n",
       "      <td>0</td>\n",
       "      <td>1</td>\n",
       "    </tr>\n",
       "    <tr>\n",
       "      <th>17</th>\n",
       "      <td>Work</td>\n",
       "      <td>Alone</td>\n",
       "      <td>Sunny</td>\n",
       "      <td>55</td>\n",
       "      <td>7AM</td>\n",
       "      <td>Bar</td>\n",
       "      <td>1d</td>\n",
       "      <td>Female</td>\n",
       "      <td>21</td>\n",
       "      <td>Unmarried partner</td>\n",
       "      <td>...</td>\n",
       "      <td>never</td>\n",
       "      <td>NaN</td>\n",
       "      <td>4~8</td>\n",
       "      <td>1~3</td>\n",
       "      <td>1</td>\n",
       "      <td>1</td>\n",
       "      <td>1</td>\n",
       "      <td>0</td>\n",
       "      <td>1</td>\n",
       "      <td>0</td>\n",
       "    </tr>\n",
       "    <tr>\n",
       "      <th>24</th>\n",
       "      <td>No Urgent Place</td>\n",
       "      <td>Friend(s)</td>\n",
       "      <td>Sunny</td>\n",
       "      <td>80</td>\n",
       "      <td>10AM</td>\n",
       "      <td>Bar</td>\n",
       "      <td>1d</td>\n",
       "      <td>Male</td>\n",
       "      <td>21</td>\n",
       "      <td>Single</td>\n",
       "      <td>...</td>\n",
       "      <td>less1</td>\n",
       "      <td>4~8</td>\n",
       "      <td>4~8</td>\n",
       "      <td>less1</td>\n",
       "      <td>1</td>\n",
       "      <td>0</td>\n",
       "      <td>0</td>\n",
       "      <td>0</td>\n",
       "      <td>1</td>\n",
       "      <td>1</td>\n",
       "    </tr>\n",
       "    <tr>\n",
       "      <th>35</th>\n",
       "      <td>Home</td>\n",
       "      <td>Alone</td>\n",
       "      <td>Sunny</td>\n",
       "      <td>55</td>\n",
       "      <td>6PM</td>\n",
       "      <td>Bar</td>\n",
       "      <td>1d</td>\n",
       "      <td>Male</td>\n",
       "      <td>21</td>\n",
       "      <td>Single</td>\n",
       "      <td>...</td>\n",
       "      <td>less1</td>\n",
       "      <td>4~8</td>\n",
       "      <td>4~8</td>\n",
       "      <td>less1</td>\n",
       "      <td>1</td>\n",
       "      <td>0</td>\n",
       "      <td>0</td>\n",
       "      <td>1</td>\n",
       "      <td>0</td>\n",
       "      <td>1</td>\n",
       "    </tr>\n",
       "    <tr>\n",
       "      <th>39</th>\n",
       "      <td>Work</td>\n",
       "      <td>Alone</td>\n",
       "      <td>Sunny</td>\n",
       "      <td>55</td>\n",
       "      <td>7AM</td>\n",
       "      <td>Bar</td>\n",
       "      <td>1d</td>\n",
       "      <td>Male</td>\n",
       "      <td>21</td>\n",
       "      <td>Single</td>\n",
       "      <td>...</td>\n",
       "      <td>less1</td>\n",
       "      <td>4~8</td>\n",
       "      <td>4~8</td>\n",
       "      <td>less1</td>\n",
       "      <td>1</td>\n",
       "      <td>1</td>\n",
       "      <td>1</td>\n",
       "      <td>0</td>\n",
       "      <td>1</td>\n",
       "      <td>1</td>\n",
       "    </tr>\n",
       "    <tr>\n",
       "      <th>46</th>\n",
       "      <td>No Urgent Place</td>\n",
       "      <td>Friend(s)</td>\n",
       "      <td>Sunny</td>\n",
       "      <td>80</td>\n",
       "      <td>10AM</td>\n",
       "      <td>Bar</td>\n",
       "      <td>1d</td>\n",
       "      <td>Male</td>\n",
       "      <td>46</td>\n",
       "      <td>Single</td>\n",
       "      <td>...</td>\n",
       "      <td>4~8</td>\n",
       "      <td>1~3</td>\n",
       "      <td>1~3</td>\n",
       "      <td>never</td>\n",
       "      <td>1</td>\n",
       "      <td>0</td>\n",
       "      <td>0</td>\n",
       "      <td>0</td>\n",
       "      <td>1</td>\n",
       "      <td>0</td>\n",
       "    </tr>\n",
       "    <tr>\n",
       "      <th>57</th>\n",
       "      <td>Home</td>\n",
       "      <td>Alone</td>\n",
       "      <td>Sunny</td>\n",
       "      <td>55</td>\n",
       "      <td>6PM</td>\n",
       "      <td>Bar</td>\n",
       "      <td>1d</td>\n",
       "      <td>Male</td>\n",
       "      <td>46</td>\n",
       "      <td>Single</td>\n",
       "      <td>...</td>\n",
       "      <td>4~8</td>\n",
       "      <td>1~3</td>\n",
       "      <td>1~3</td>\n",
       "      <td>never</td>\n",
       "      <td>1</td>\n",
       "      <td>0</td>\n",
       "      <td>0</td>\n",
       "      <td>1</td>\n",
       "      <td>0</td>\n",
       "      <td>0</td>\n",
       "    </tr>\n",
       "    <tr>\n",
       "      <th>61</th>\n",
       "      <td>Work</td>\n",
       "      <td>Alone</td>\n",
       "      <td>Sunny</td>\n",
       "      <td>55</td>\n",
       "      <td>7AM</td>\n",
       "      <td>Bar</td>\n",
       "      <td>1d</td>\n",
       "      <td>Male</td>\n",
       "      <td>46</td>\n",
       "      <td>Single</td>\n",
       "      <td>...</td>\n",
       "      <td>4~8</td>\n",
       "      <td>1~3</td>\n",
       "      <td>1~3</td>\n",
       "      <td>never</td>\n",
       "      <td>1</td>\n",
       "      <td>1</td>\n",
       "      <td>1</td>\n",
       "      <td>0</td>\n",
       "      <td>1</td>\n",
       "      <td>0</td>\n",
       "    </tr>\n",
       "    <tr>\n",
       "      <th>75</th>\n",
       "      <td>No Urgent Place</td>\n",
       "      <td>Kid(s)</td>\n",
       "      <td>Sunny</td>\n",
       "      <td>80</td>\n",
       "      <td>10AM</td>\n",
       "      <td>Bar</td>\n",
       "      <td>1d</td>\n",
       "      <td>Male</td>\n",
       "      <td>46</td>\n",
       "      <td>Married partner</td>\n",
       "      <td>...</td>\n",
       "      <td>1~3</td>\n",
       "      <td>1~3</td>\n",
       "      <td>1~3</td>\n",
       "      <td>less1</td>\n",
       "      <td>1</td>\n",
       "      <td>1</td>\n",
       "      <td>0</td>\n",
       "      <td>0</td>\n",
       "      <td>1</td>\n",
       "      <td>1</td>\n",
       "    </tr>\n",
       "  </tbody>\n",
       "</table>\n",
       "<p>10 rows × 26 columns</p>\n",
       "</div>"
      ],
      "text/plain": [
       "        destination  passanger weather  temperature  time coupon expiration  \\\n",
       "9   No Urgent Place     Kid(s)   Sunny           80  10AM    Bar         1d   \n",
       "13             Home      Alone   Sunny           55   6PM    Bar         1d   \n",
       "17             Work      Alone   Sunny           55   7AM    Bar         1d   \n",
       "24  No Urgent Place  Friend(s)   Sunny           80  10AM    Bar         1d   \n",
       "35             Home      Alone   Sunny           55   6PM    Bar         1d   \n",
       "39             Work      Alone   Sunny           55   7AM    Bar         1d   \n",
       "46  No Urgent Place  Friend(s)   Sunny           80  10AM    Bar         1d   \n",
       "57             Home      Alone   Sunny           55   6PM    Bar         1d   \n",
       "61             Work      Alone   Sunny           55   7AM    Bar         1d   \n",
       "75  No Urgent Place     Kid(s)   Sunny           80  10AM    Bar         1d   \n",
       "\n",
       "    gender age      maritalStatus  ...  CoffeeHouse CarryAway  \\\n",
       "9   Female  21  Unmarried partner  ...        never       NaN   \n",
       "13  Female  21  Unmarried partner  ...        never       NaN   \n",
       "17  Female  21  Unmarried partner  ...        never       NaN   \n",
       "24    Male  21             Single  ...        less1       4~8   \n",
       "35    Male  21             Single  ...        less1       4~8   \n",
       "39    Male  21             Single  ...        less1       4~8   \n",
       "46    Male  46             Single  ...          4~8       1~3   \n",
       "57    Male  46             Single  ...          4~8       1~3   \n",
       "61    Male  46             Single  ...          4~8       1~3   \n",
       "75    Male  46    Married partner  ...          1~3       1~3   \n",
       "\n",
       "   RestaurantLessThan20 Restaurant20To50 toCoupon_GEQ5min toCoupon_GEQ15min  \\\n",
       "9                   4~8              1~3                1                 1   \n",
       "13                  4~8              1~3                1                 0   \n",
       "17                  4~8              1~3                1                 1   \n",
       "24                  4~8            less1                1                 0   \n",
       "35                  4~8            less1                1                 0   \n",
       "39                  4~8            less1                1                 1   \n",
       "46                  1~3            never                1                 0   \n",
       "57                  1~3            never                1                 0   \n",
       "61                  1~3            never                1                 1   \n",
       "75                  1~3            less1                1                 1   \n",
       "\n",
       "   toCoupon_GEQ25min direction_same direction_opp  Y  \n",
       "9                  0              0             1  0  \n",
       "13                 0              1             0  1  \n",
       "17                 1              0             1  0  \n",
       "24                 0              0             1  1  \n",
       "35                 0              1             0  1  \n",
       "39                 1              0             1  1  \n",
       "46                 0              0             1  0  \n",
       "57                 0              1             0  0  \n",
       "61                 1              0             1  0  \n",
       "75                 0              0             1  1  \n",
       "\n",
       "[10 rows x 26 columns]"
      ]
     },
     "execution_count": 31,
     "metadata": {},
     "output_type": "execute_result"
    }
   ],
   "source": [
    "# Filter dataset to include only bar-related coupons\n",
    "bar_coupons = data[data['coupon'] == 'Bar']\n",
    "\n",
    "# Displaying first few rows\n",
    "bar_coupons.head(10)\n"
   ]
  },
  {
   "cell_type": "markdown",
   "metadata": {
    "id": "8ue6uCqf_qRJ"
   },
   "source": [
    "2. What proportion of bar coupons were accepted?\n"
   ]
  },
  {
   "cell_type": "code",
   "execution_count": 34,
   "metadata": {
    "id": "hSdte8Mi_qRK"
   },
   "outputs": [
    {
     "name": "stdout",
     "output_type": "stream",
     "text": [
      "Proportion of accepted bar coupons: 41.00%\n"
     ]
    }
   ],
   "source": [
    "# Calculate acceptance rate\n",
    "bar_acceptance_rate = bar_coupons['Y'].mean()\n",
    "print(f\"Proportion of accepted bar coupons: {bar_acceptance_rate:.2%}\")"
   ]
  },
  {
   "cell_type": "markdown",
   "metadata": {
    "id": "85nA_iEi_qRK"
   },
   "source": [
    "3. Compare the acceptance rate between those who went to a bar 3 or fewer times a month to those who went more.\n"
   ]
  },
  {
   "cell_type": "code",
   "execution_count": 37,
   "metadata": {
    "id": "LBOrN-XM_qRK"
   },
   "outputs": [
    {
     "name": "stdout",
     "output_type": "stream",
     "text": [
      "Acceptance Rate by Bar Visit Frequency:\n",
      "Drivers who go to a bar more than 3 times a month: 76.88%\n",
      "Drivers who go to a bar 3 or fewer times a month: 37.06%\n"
     ]
    }
   ],
   "source": [
    "# Ensure bar_coupons is a full independent copy\n",
    "bar_coupons = data[data['coupon'] == 'Bar'].copy()\n",
    "\n",
    "# Map bar visit frequency into two groups\n",
    "bar_coupons['bar_frequency_group'] = bar_coupons['Bar'].apply(\n",
    "    lambda x: '≤3 times' if x in ['never', 'less1', '1~3'] else '>3 times' if x in ['4~8', 'gt8'] else 'Unknown'\n",
    ")\n",
    "\n",
    "# Calculate acceptance rates for both groups\n",
    "bar_acceptance_by_frequency = bar_coupons.groupby('bar_frequency_group')['Y'].mean()\n",
    "\n",
    "# Print the acceptance rates in percentage format\n",
    "print(\"Acceptance Rate by Bar Visit Frequency:\")\n",
    "print(f\"Drivers who go to a bar more than 3 times a month: {bar_acceptance_by_frequency['>3 times']:.2%}\")\n",
    "print(f\"Drivers who go to a bar 3 or fewer times a month: {bar_acceptance_by_frequency['≤3 times']:.2%}\")\n",
    "\n"
   ]
  },
  {
   "cell_type": "markdown",
   "metadata": {
    "id": "RBgcQwH4_qRK"
   },
   "source": [
    "4. Compare the acceptance rate between drivers who go to a bar more than once a month and are over the age of 25 to the all others.  Is there a difference?\n"
   ]
  },
  {
   "cell_type": "code",
   "execution_count": 40,
   "metadata": {
    "id": "bf28bbeX_qRK"
   },
   "outputs": [
    {
     "name": "stdout",
     "output_type": "stream",
     "text": [
      "Acceptance Rate:\n",
      "Drivers who go to a bar more than once a month and are over the age of 25: 68.46%\n",
      "All others: 34.81%\n"
     ]
    }
   ],
   "source": [
    "# Convert age column to numeric\n",
    "data['age'] = pd.to_numeric(data['age'], errors='coerce')\n",
    "\n",
    "# Filter dataset to include only bar-related coupons and create a copy\n",
    "bar_coupons = data[data['coupon'] == 'Bar'].copy()\n",
    "\n",
    "# Create a new column categorizing frequency of bar visits\n",
    "bar_coupons.loc[:, 'bar_visits_group'] = bar_coupons['Bar'].apply(\n",
    "    lambda x: '>1 month' if x not in ['0', 'less1', 'never'] else '≤1 month'\n",
    ")\n",
    "\n",
    "# Create two groups:\n",
    "group_1 = bar_coupons[(bar_coupons['bar_visits_group'] == '>1 month') & (bar_coupons['age'] > 25)]\n",
    "group_2 = bar_coupons[~((bar_coupons['bar_visits_group'] == '>1 month') & (bar_coupons['age'] > 25))]\n",
    "\n",
    "# Calculate acceptance rates\n",
    "acceptance_rate_group_1 = group_1['Y'].mean()\n",
    "acceptance_rate_group_2 = group_2['Y'].mean()\n",
    "\n",
    "# Print the acceptance rates in the required format\n",
    "print(\"Acceptance Rate:\")\n",
    "print(f\"Drivers who go to a bar more than once a month and are over the age of 25: {acceptance_rate_group_1:.2%}\")\n",
    "print(f\"All others: {acceptance_rate_group_2:.2%}\")\n",
    "\n"
   ]
  },
  {
   "cell_type": "markdown",
   "metadata": {
    "id": "S4RKT4PJ_qRK"
   },
   "source": [
    "5. Use the same process to compare the acceptance rate between drivers who go to bars more than once a month and had passengers that were not a kid and had occupations other than farming, fishing, or forestry.\n"
   ]
  },
  {
   "cell_type": "code",
   "execution_count": 43,
   "metadata": {
    "id": "sENaI2Tg_qRK"
   },
   "outputs": [
    {
     "name": "stdout",
     "output_type": "stream",
     "text": [
      "Acceptance Rate:\n",
      "Drivers who go to bars more than once a month, had passengers that were not a kid, and had occupations other than farming, fishing, or forestry: 70.30%\n",
      "All others: 29.49%\n"
     ]
    }
   ],
   "source": [
    "# This was how I initially understood the question Comparing drivers who go to bars more than once a month \n",
    "# and had passengers that were not a kid and had occupations other than farming, fishing, or forestry to All others. Similar to number 4.\n",
    "\n",
    "# Ensure 'occupation' column exists and convert passenger column to standard format\n",
    "if 'occupation' in data.columns and 'passanger' in data.columns:\n",
    "    \n",
    "    # Filter dataset to include only bar-related coupons and create a copy\n",
    "    bar_coupons = data[data['coupon'] == 'Bar'].copy()\n",
    "\n",
    "    # Define valid passengers (excluding 'Kid(s)')\n",
    "    valid_passengers = ['Alone', 'Partner', 'Friend(s)']\n",
    "\n",
    "    # Define valid occupations (excluding 'Farming, Fishing, or Forestry')\n",
    "    valid_occupations = bar_coupons['occupation'].unique().tolist()\n",
    "    if 'Farming, Fishing, or Forestry' in valid_occupations:\n",
    "        valid_occupations.remove('Farming, Fishing, or Forestry')\n",
    "\n",
    "    # Create a new column categorizing frequency of bar visits\n",
    "    bar_coupons.loc[:, 'bar_visits_group'] = bar_coupons['Bar'].apply(\n",
    "        lambda x: '>1 month' if x not in ['0', 'less1', 'never'] else '≤1 month'\n",
    "    )\n",
    "\n",
    "    # Create two groups:\n",
    "    group_1 = bar_coupons[\n",
    "        (bar_coupons['bar_visits_group'] == '>1 month') & \n",
    "        (bar_coupons['passanger'].isin(valid_passengers)) & \n",
    "        (bar_coupons['occupation'].isin(valid_occupations))\n",
    "    ]\n",
    "\n",
    "    group_2 = bar_coupons[~(\n",
    "        (bar_coupons['bar_visits_group'] == '>1 month') & \n",
    "        (bar_coupons['passanger'].isin(valid_passengers)) & \n",
    "        (bar_coupons['occupation'].isin(valid_occupations))\n",
    "    )]\n",
    "\n",
    "    # Calculate acceptance rates\n",
    "    acceptance_rate_group_1 = group_1['Y'].mean()\n",
    "    acceptance_rate_group_2 = group_2['Y'].mean()\n",
    "\n",
    "    # Print the acceptance rates in the required format\n",
    "    print(\"Acceptance Rate:\")\n",
    "    print(f\"Drivers who go to bars more than once a month, had passengers that were not a kid, \"\n",
    "          f\"and had occupations other than farming, fishing, or forestry: {acceptance_rate_group_1:.2%}\")\n",
    "    print(f\"All others: {acceptance_rate_group_2:.2%}\")\n",
    "\n",
    "else:\n",
    "    print(\"Error: The dataset does not contain required columns 'occupation' or 'passanger'.\")\n"
   ]
  },
  {
   "cell_type": "code",
   "execution_count": 45,
   "metadata": {
    "id": "sENaI2Tg_qRK"
   },
   "outputs": [
    {
     "name": "stdout",
     "output_type": "stream",
     "text": [
      "Acceptance Rate:\n",
      "Drivers who go to bars more than once a month: 67.75%\n",
      "Drivers who had passengers that were not a kid: 43.29%\n",
      "Drivers who had occupations other than farming, fishing, or forestry: 41.00%\n"
     ]
    }
   ],
   "source": [
    "# Made this comparison as well do to the question 5 being unclear on what it wanted us to compare. Due to that this comparison is between the group\n",
    "# Drivers who go to bars more than once a month, Drivers who had passengers that were not a kid, and \n",
    "# Drivers who had occupations other than farming, fishing, or forestry. \n",
    "\n",
    "# Ensure 'occupation' and 'passanger' columns exist\n",
    "if 'occupation' in data.columns and 'passanger' in data.columns:\n",
    "    \n",
    "    # Filter dataset to include only bar-related coupons and create a copy\n",
    "    bar_coupons = data[data['coupon'] == 'Bar'].copy()\n",
    "\n",
    "    # Define valid passengers (excluding 'Kid(s)')\n",
    "    valid_passengers = ['Alone', 'Partner', 'Friend(s)']\n",
    "\n",
    "    # Define valid occupations (excluding 'Farming, Fishing, or Forestry')\n",
    "    valid_occupations = bar_coupons['occupation'].unique().tolist()\n",
    "    if 'Farming, Fishing, or Forestry' in valid_occupations:\n",
    "        valid_occupations.remove('Farming, Fishing, or Forestry')\n",
    "\n",
    "    # Create a new column categorizing frequency of bar visits\n",
    "    bar_coupons.loc[:, 'bar_visits_group'] = bar_coupons['Bar'].apply(\n",
    "        lambda x: '>1 month' if x not in ['0', 'less1', 'never'] else '≤1 month'\n",
    "    )\n",
    "\n",
    "    # Create three separate groups:\n",
    "    group_1 = bar_coupons[bar_coupons['bar_visits_group'] == '>1 month']\n",
    "    group_2 = bar_coupons[bar_coupons['passanger'].isin(valid_passengers)]\n",
    "    group_3 = bar_coupons[bar_coupons['occupation'].isin(valid_occupations)]\n",
    "\n",
    "    # Calculate acceptance rates for each group\n",
    "    acceptance_rate_group_1 = group_1['Y'].mean()\n",
    "    acceptance_rate_group_2 = group_2['Y'].mean()\n",
    "    acceptance_rate_group_3 = group_3['Y'].mean()\n",
    "\n",
    "    # Print the acceptance rates in the required format\n",
    "    print(\"Acceptance Rate:\")\n",
    "    print(f\"Drivers who go to bars more than once a month: {acceptance_rate_group_1:.2%}\")\n",
    "    print(f\"Drivers who had passengers that were not a kid: {acceptance_rate_group_2:.2%}\")\n",
    "    print(f\"Drivers who had occupations other than farming, fishing, or forestry: {acceptance_rate_group_3:.2%}\")\n",
    "\n",
    "else:\n",
    "    print(\"Error: The dataset does not contain required columns 'occupation' or 'passanger'.\")\n",
    "\n"
   ]
  },
  {
   "cell_type": "markdown",
   "metadata": {
    "id": "n2LIUTil_qRK"
   },
   "source": [
    "6. Compare the acceptance rates between those drivers who:\n",
    "\n",
    "- go to bars more than once a month, had passengers that were not a kid, and were not widowed *OR*\n",
    "- go to bars more than once a month and are under the age of 30 *OR*\n",
    "- go to cheap restaurants more than 4 times a month and income is less than 50K.\n",
    "\n"
   ]
  },
  {
   "cell_type": "code",
   "execution_count": 48,
   "metadata": {
    "id": "aK_wEzx7_qRK"
   },
   "outputs": [
    {
     "name": "stdout",
     "output_type": "stream",
     "text": [
      "Acceptance Rate:\n",
      "Drivers who go to bars more than once a month, had passengers that were not a kid, and were not widowed: 71.16%\n",
      "Drivers who go to bars more than once a month and are under the age of 30: 72.15%\n",
      "Drivers who go to cheap restaurants more than 4 times a month and have an income less than $50K: 60.66%\n"
     ]
    }
   ],
   "source": [
    "import numpy as np\n",
    "\n",
    "# Function to extract upper bound of income range\n",
    "def extract_income_upper_bound(income_str):\n",
    "    if isinstance(income_str, str):\n",
    "        # Extract numbers and take the last value (upper bound of range)\n",
    "        numbers = [int(s) for s in income_str.replace('$', '').replace(',', '').split() if s.isdigit()]\n",
    "        return max(numbers) if numbers else np.nan\n",
    "    return np.nan\n",
    "\n",
    "# Ensure required columns exist before proceeding\n",
    "required_columns = {'maritalStatus', 'Bar', 'passanger', 'age', 'RestaurantLessThan20', 'income'}\n",
    "if required_columns.issubset(data.columns):\n",
    "\n",
    "    # Filter dataset to include only bar-related or restaurant-related coupons\n",
    "    relevant_coupons = data[data['coupon'].isin(['Bar', 'Restaurant(<20)'])].copy()\n",
    "\n",
    "    # Define valid passengers (excluding 'Kid(s)')\n",
    "    valid_passengers = ['Alone', 'Partner', 'Friend(s)']\n",
    "\n",
    "    # Create a new column categorizing frequency of bar visits\n",
    "    relevant_coupons.loc[:, 'bar_visits_group'] = relevant_coupons['Bar'].apply(\n",
    "        lambda x: '>1 month' if x not in ['0', 'less1', 'never'] else '≤1 month'\n",
    "    )\n",
    "\n",
    "    # Convert income to numeric by extracting the upper bound of range\n",
    "    relevant_coupons.loc[:, 'income_numeric'] = relevant_coupons['income'].apply(extract_income_upper_bound)\n",
    "\n",
    "    # Define income threshold\n",
    "    low_income_threshold = 50000\n",
    "\n",
    "    # Create three separate groups:\n",
    "    group_1 = relevant_coupons[\n",
    "        (relevant_coupons['bar_visits_group'] == '>1 month') &\n",
    "        (relevant_coupons['passanger'].isin(valid_passengers)) &\n",
    "        (relevant_coupons['maritalStatus'] != 'Widowed')\n",
    "    ]\n",
    "\n",
    "    group_2 = relevant_coupons[\n",
    "        (relevant_coupons['bar_visits_group'] == '>1 month') &\n",
    "        (relevant_coupons['age'] < 30)\n",
    "    ]\n",
    "\n",
    "    group_3 = relevant_coupons[\n",
    "        (relevant_coupons['RestaurantLessThan20'].isin(['4~8', 'gt8'])) &\n",
    "        (relevant_coupons['income_numeric'] < low_income_threshold)\n",
    "    ]\n",
    "\n",
    "    # Calculate acceptance rates for each group\n",
    "    acceptance_rate_group_1 = group_1['Y'].mean()\n",
    "    acceptance_rate_group_2 = group_2['Y'].mean()\n",
    "    acceptance_rate_group_3 = group_3['Y'].mean()\n",
    "\n",
    "    # Print the acceptance rates in percentage format\n",
    "    print(\"Acceptance Rate:\")\n",
    "    print(f\"Drivers who go to bars more than once a month, had passengers that were not a kid, and were not widowed: {acceptance_rate_group_1:.2%}\")\n",
    "    print(f\"Drivers who go to bars more than once a month and are under the age of 30: {acceptance_rate_group_2:.2%}\")\n",
    "    print(f\"Drivers who go to cheap restaurants more than 4 times a month and have an income less than $50K: {acceptance_rate_group_3:.2%}\")\n",
    "\n",
    "else:\n",
    "    print(f\"Error: The dataset does not contain required columns: {required_columns - set(data.columns)}\")\n"
   ]
  },
  {
   "cell_type": "markdown",
   "metadata": {
    "id": "v3fL3QkO_qRK"
   },
   "source": [
    "7.  Based on these observations, what do you hypothesize about drivers who accepted the bar coupons?"
   ]
  },
  {
   "cell_type": "markdown",
   "metadata": {
    "id": "Y48naDFh_qRL"
   },
   "source": [
    "### Hypothesis on Drivers Who Accepted Bar Coupons\n",
    "\n",
    "#### 1. Frequent Bar Visitors Are More Likely to Accept Coupons  \n",
    "- Drivers who go to **bars more than 3 times a month** have a significantly **higher acceptance rate (~76.88%)** compared to those who visit bars less often (~37.06%).  \n",
    "- This suggests that **habitual bar-goers** are more receptive to bar-related discounts.\n",
    "\n",
    "#### 2. Younger Drivers Accept Bar Coupons More Often  \n",
    "- Drivers under **30 years old** and who **frequent bars** had an acceptance rate of **~72.15%**.  \n",
    "- This indicates that younger individuals are **more likely to accept promotional offers** related to bars.\n",
    "\n",
    "#### 3. Social Context Matters  \n",
    "- Drivers who **go to bars more than once a month and had passengers that were not a kid** had an acceptance rate of **~71.16%**.  \n",
    "- This suggests that drivers who **travel with friends or partners** might be more inclined to accept bar coupons due to group social behavior.\n",
    "\n",
    "#### 4. Income and Restaurant Habits Influence Acceptance  \n",
    "- Drivers who visit **cheap restaurants (>4 times a month) and earn <$50K** had an acceptance rate of **~60.66%**.  \n",
    "- This suggests that people with **lower incomes and frequent dining habits** might be more inclined to use discounts and promotions.\n",
    "\n",
    "### **Final Hypothesis:**  \n",
    "Drivers who **frequent bars, are younger, and travel with social companions** are more likely to accept bar coupons. Additionally, **income level and dining habits** also play a role in their willingness to redeem these offers.\n"
   ]
  },
  {
   "cell_type": "markdown",
   "metadata": {
    "id": "r4Hu1zOb_qRL"
   },
   "source": [
    "### Independent Investigation\n",
    "\n",
    "Using the bar coupon example as motivation, you are to explore one of the other coupon groups and try to determine the characteristics of passengers who accept the coupons.  "
   ]
  },
  {
   "cell_type": "code",
   "execution_count": 53,
   "metadata": {
    "id": "0c71cQhu_qRL"
   },
   "outputs": [
    {
     "name": "stdout",
     "output_type": "stream",
     "text": [
      "Acceptance Rate for Coffee House Coupons:\n",
      "Frequent coffee shop visitors who had passengers (not kids) and preferred sunny weather: 66.93%\n",
      "Frequent coffee shop visitors under 30 who preferred morning/midday coffee outings: 78.73%\n",
      "Frequent coffee shop visitors with lower income who also dine frequently at budget restaurants: 65.15%\n"
     ]
    }
   ],
   "source": [
    "# Ensure dataset is filtered for Coffee House coupons\n",
    "coffee_coupons = data[data['coupon'] == 'Coffee House'].copy()\n",
    "\n",
    "# Define valid passengers (excluding 'Kid(s)')\n",
    "valid_passengers = ['Alone', 'Partner', 'Friend(s)']\n",
    "\n",
    "# Define income threshold for affordability factor\n",
    "low_income_threshold = 50000\n",
    "\n",
    "# Convert income to numeric by extracting the upper bound of range\n",
    "coffee_coupons.loc[:, 'income_numeric'] = coffee_coupons['income'].apply(extract_income_upper_bound)\n",
    "\n",
    "# Create a new column categorizing frequency of Coffee House visits\n",
    "coffee_coupons.loc[:, 'coffee_visits_group'] = coffee_coupons['CoffeeHouse'].apply(\n",
    "    lambda x: '>1 month' if x not in ['0', 'less1', 'never'] else '≤1 month'\n",
    ")\n",
    "\n",
    "# Create three coffee-specific groups:\n",
    "group_1 = coffee_coupons[\n",
    "    (coffee_coupons['coffee_visits_group'] == '>1 month') &\n",
    "    (coffee_coupons['passanger'].isin(valid_passengers)) &\n",
    "    (coffee_coupons['weather'] == 'Sunny')  # Assume coffee shops might be preferred in good weather\n",
    "]\n",
    "\n",
    "group_2 = coffee_coupons[\n",
    "    (coffee_coupons['coffee_visits_group'] == '>1 month') &\n",
    "    (coffee_coupons['age'] < 30) &\n",
    "    (coffee_coupons['time'].isin(['10AM', '2PM']))  # Morning and midday preference for coffee shops\n",
    "]\n",
    "\n",
    "group_3 = coffee_coupons[\n",
    "    (coffee_coupons['coffee_visits_group'] == '>1 month') &\n",
    "    (coffee_coupons['income_numeric'] < low_income_threshold) &\n",
    "    (coffee_coupons['RestaurantLessThan20'].isin(['4~8', 'gt8']))  # Frequent diners at low-cost restaurants\n",
    "]\n",
    "\n",
    "# Calculate acceptance rates for each group\n",
    "acceptance_rate_group_1 = group_1['Y'].mean()\n",
    "acceptance_rate_group_2 = group_2['Y'].mean()\n",
    "acceptance_rate_group_3 = group_3['Y'].mean()\n",
    "\n",
    "# Print the acceptance rates in percentage format\n",
    "print(\"Acceptance Rate for Coffee House Coupons:\")\n",
    "print(f\"Frequent coffee shop visitors who had passengers (not kids) and preferred sunny weather: {acceptance_rate_group_1:.2%}\")\n",
    "print(f\"Frequent coffee shop visitors under 30 who preferred morning/midday coffee outings: {acceptance_rate_group_2:.2%}\")\n",
    "print(f\"Frequent coffee shop visitors with lower income who also dine frequently at budget restaurants: {acceptance_rate_group_3:.2%}\")\n"
   ]
  },
  {
   "cell_type": "code",
   "execution_count": 55,
   "metadata": {
    "id": "QEsBkvIN_qRL"
   },
   "outputs": [
    {
     "name": "stdout",
     "output_type": "stream",
     "text": [
      "Acceptance Rate for Coffee House Coupons by Passenger Type:\n",
      "Friend(s): 59.69%\n",
      "Partner: 57.05%\n",
      "Kid(s): 48.31%\n",
      "Alone: 43.79%\n"
     ]
    }
   ],
   "source": [
    "# Calculate acceptance rate for each passenger type\n",
    "acceptance_by_passenger = coffee_coupons.groupby('passanger')['Y'].mean().sort_values(ascending=False)\n",
    "\n",
    "# Convert results to DataFrame for better visualization\n",
    "acceptance_passenger_df = pd.DataFrame({\n",
    "    \"Passenger Type\": acceptance_by_passenger.index,\n",
    "    \"Acceptance Rate\": acceptance_by_passenger.values\n",
    "})\n",
    "\n",
    "# Print the acceptance rates in percentage format\n",
    "print(\"Acceptance Rate for Coffee House Coupons by Passenger Type:\")\n",
    "for index, row in acceptance_passenger_df.iterrows():\n",
    "    print(f\"{row['Passenger Type']}: {row['Acceptance Rate']:.2%}\")"
   ]
  },
  {
   "cell_type": "code",
   "execution_count": 64,
   "metadata": {
    "id": "fTC2WGE3_qRL"
   },
   "outputs": [
    {
     "name": "stdout",
     "output_type": "stream",
     "text": [
      "\n",
      "Acceptance Rate by Time of Day:\n",
      "10AM: 64.07%\n",
      "2PM: 54.79%\n",
      "7AM: 44.58%\n",
      "10PM: 42.42%\n",
      "6PM: 41.26%\n",
      "\n",
      "Acceptance Rate by Weather:\n",
      "Rainy: 52.21%\n",
      "Sunny: 50.36%\n",
      "Snowy: 43.23%\n",
      "\n",
      "Acceptance Rate by Income Bracket:\n",
      "<50K: 52.25%\n",
      ">100K: 49.44%\n",
      "50K-100K: 46.39%\n",
      "\n",
      "Acceptance Rate by Coupon Expiry Time:\n",
      "1d: 58.39%\n",
      "2h: 43.20%\n"
     ]
    }
   ],
   "source": [
    "# Time of Day Analysis: Compare acceptance rates across 10 AM, 2 PM, and 6 PM\n",
    "acceptance_by_time = coffee_coupons.groupby('time')['Y'].mean().sort_values(ascending=False)\n",
    "\n",
    "# Weather Conditions: Compare acceptance rates across Sunny, Rainy, and Snowy\n",
    "acceptance_by_weather = coffee_coupons.groupby('weather')['Y'].mean().sort_values(ascending=False)\n",
    "\n",
    "#Income & Coffee Shop Visits: Compare acceptance rates for different income brackets\n",
    "# Define income brackets\n",
    "coffee_coupons['income_bracket'] = coffee_coupons['income_numeric'].apply(\n",
    "    lambda x: '<50K' if x < 50000 else '50K-100K' if x < 100000 else '>100K'\n",
    ")\n",
    "acceptance_by_income = coffee_coupons.groupby('income_bracket')['Y'].mean().sort_values(ascending=False)\n",
    "\n",
    "# Coupon Expiry: Compare acceptance rates based on coupon expiration\n",
    "acceptance_by_expiry = coffee_coupons.groupby('expiration')['Y'].mean().sort_values(ascending=False)\n",
    "\n",
    "# Print results in percentage format\n",
    "print(\"\\nAcceptance Rate by Time of Day:\")\n",
    "for time, rate in acceptance_by_time.items():\n",
    "    print(f\"{time}: {rate:.2%}\")\n",
    "\n",
    "print(\"\\nAcceptance Rate by Weather:\")\n",
    "for weather, rate in acceptance_by_weather.items():\n",
    "    print(f\"{weather}: {rate:.2%}\")\n",
    "\n",
    "print(\"\\nAcceptance Rate by Income Bracket:\")\n",
    "for income, rate in acceptance_by_income.items():\n",
    "    print(f\"{income}: {rate:.2%}\")\n",
    "\n",
    "print(\"\\nAcceptance Rate by Coupon Expiry Time:\")\n",
    "for expiry, rate in acceptance_by_expiry.items():\n",
    "    print(f\"{expiry}: {rate:.2%}\")\n",
    "\n"
   ]
  },
  {
   "cell_type": "code",
   "execution_count": 77,
   "metadata": {
    "id": "RrqUWn7d_qRL"
   },
   "outputs": [
    {
     "data": {
      "image/png": "[encoded data removed]",
      "text/plain": [
       "<Figure size 600x400 with 1 Axes>"
      ]
     },
     "metadata": {},
     "output_type": "display_data"
    }
   ],
   "source": [
    "\n",
    "# Acceptance Distribution\n",
    "plt.figure(figsize=(6,4))\n",
    "sns.countplot(x=\"Y\", data=coffee_coupons, hue=\"Y\", legend=False, palette=\"Blues\")  # Fix: Added hue=\"Y\"\n",
    "plt.xticks(ticks=[0,1], labels=[\"Rejected\", \"Accepted\"])\n",
    "plt.xlabel(\"Coupon Acceptance\")\n",
    "plt.ylabel(\"Count\")\n",
    "plt.title(\"Coffee House Coupon Acceptance Distribution\")\n",
    "plt.show()"
   ]
  },
  {
   "cell_type": "code",
   "execution_count": 81,
   "metadata": {
    "id": "_oykf8YP_qRL"
   },
   "outputs": [
    {
     "data": {
      "image/png": "[encoded data removed]",
      "text/plain": [
       "<Figure size 600x400 with 1 Axes>"
      ]
     },
     "metadata": {},
     "output_type": "display_data"
    }
   ],
   "source": [
    "# Time of Day vs. Acceptance\n",
    "plt.figure(figsize=(6,4))\n",
    "sns.barplot(x=\"time\", y=\"Y\", data=coffee_coupons, estimator=lambda x: sum(x)/len(x), hue=\"time\", legend=False, palette=\"Blues\")  # Fix applied\n",
    "plt.xlabel(\"Time of Day\")\n",
    "plt.ylabel(\"Acceptance Rate\")\n",
    "plt.title(\"Acceptance Rate by Time of Day\")\n",
    "plt.show()\n"
   ]
  },
  {
   "cell_type": "code",
   "execution_count": 85,
   "metadata": {
    "id": "_oykf8YP_qRL"
   },
   "outputs": [
    {
     "data": {
      "image/png": "[encoded data removed]",
      "text/plain": [
       "<Figure size 600x400 with 1 Axes>"
      ]
     },
     "metadata": {},
     "output_type": "display_data"
    }
   ],
   "source": [
    "# Weather vs. Acceptance\n",
    "plt.figure(figsize=(6,4))\n",
    "sns.barplot(x=\"weather\", y=\"Y\", data=coffee_coupons, estimator=lambda x: sum(x)/len(x), hue=\"weather\", legend=False, palette=\"Blues\")  # Fix applied\n",
    "plt.xlabel(\"Weather Condition\")\n",
    "plt.ylabel(\"Acceptance Rate\")\n",
    "plt.title(\"Acceptance Rate by Weather Condition\")\n",
    "plt.show()\n"
   ]
  },
  {
   "cell_type": "code",
   "execution_count": 91,
   "metadata": {
    "id": "_oykf8YP_qRL"
   },
   "outputs": [
    {
     "data": {
      "image/png": "[encoded data removed]",
      "text/plain": [
       "<Figure size 600x400 with 1 Axes>"
      ]
     },
     "metadata": {},
     "output_type": "display_data"
    }
   ],
   "source": [
    "# Income vs. Acceptance\n",
    "plt.figure(figsize=(6,4))\n",
    "sns.barplot(x=\"income_bracket\", y=\"Y\", data=coffee_coupons, estimator=lambda x: sum(x)/len(x), hue=\"income_bracket\", legend=False, palette=\"Blues\")  # Fix applied\n",
    "plt.xlabel(\"Income Bracket\")\n",
    "plt.ylabel(\"Acceptance Rate\")\n",
    "plt.title(\"Acceptance Rate by Income Bracket\")\n",
    "plt.show()"
   ]
  },
  {
   "cell_type": "code",
   "execution_count": 95,
   "metadata": {
    "id": "_oykf8YP_qRL"
   },
   "outputs": [
    {
     "data": {
      "image/png": "[encoded data removed]",
      "text/plain": [
       "<Figure size 600x400 with 1 Axes>"
      ]
     },
     "metadata": {},
     "output_type": "display_data"
    }
   ],
   "source": [
    "# Coupon Expiration vs. Acceptance\n",
    "plt.figure(figsize=(6,4))\n",
    "sns.barplot(x=\"expiration\", y=\"Y\", data=coffee_coupons, estimator=lambda x: sum(x)/len(x), hue=\"expiration\", legend=False, palette=\"Blues\")  # Fix applied\n",
    "plt.xlabel(\"Coupon Expiration Time\")\n",
    "plt.ylabel(\"Acceptance Rate\")\n",
    "plt.title(\"Acceptance Rate by Coupon Expiration Time\")\n",
    "plt.show()"
   ]
  },
  {
   "cell_type": "markdown",
   "metadata": {},
   "source": [
    "### Hypothesis on Drivers Who Accepted Coffee House Coupons\n",
    "\n",
    "#### 1. Morning and Midday Coffee Drinkers Are More Likely to Accept Coupons  \n",
    "- The highest acceptance rates were observed at **10 AM (64.07%)** and **2 PM (54.79%)**.  \n",
    "- This suggests that **coffee consumption is most frequent in the morning and early afternoon**, making these the best times to offer discounts.\n",
    "\n",
    "#### 2. Weather Conditions Influence Coffee Coupon Acceptance  \n",
    "- Acceptance rates were slightly higher on **Rainy days (52.21%)**, followed by **Sunny (50.36%)** and **Snowy (43.23%)**.  \n",
    "- This suggests that drivers might be **more likely to stop for coffee on days that it is not snowing/snowy**.\n",
    "\n",
    "#### 3. Lower-Income Individuals Are More Receptive to Coffee Discounts  \n",
    "- Drivers earning less than 50K had the highest acceptance rate (**52.25%**), compared to **49.44%** for those earning over 100K.  \n",
    "- This indicates that **budget-conscious consumers** may be more likely to take advantage of coffee shop coupons.\n",
    "\n",
    "#### 4. Coupons with Longer Expiration Are More Effective  \n",
    "- **1-Day expiration coupons (58.39%)** were accepted more than **2-Hour expiration coupons (43.20%)**.  \n",
    "- This suggests that **giving drivers more time to redeem a coffee coupon increases the likelihood of acceptance**.\n",
    "\n",
    "### **Final Hypothesis:**  \n",
    "Drivers are **more likely to accept Coffee House coupons in the morning and early afternoon, particularly when it is not snowing. Lower-income individuals tend to be more receptive to coffee discounts, and coupons with longer expiration times increase the likelihood of acceptance.**"
   ]
  },
  {
   "cell_type": "code",
   "execution_count": null,
   "metadata": {},
   "outputs": [],
   "source": []
  }
 ],
 "metadata": {
  "colab": {
   "provenance": []
  },
  "kernelspec": {
   "display_name": "Python [conda env:base] *",
   "language": "python",
   "name": "conda-base-py"
  },
  "language_info": {
   "codemirror_mode": {
    "name": "ipython",
    "version": 3
   },
   "file_extension": ".py",
   "mimetype": "text/x-python",
   "name": "python",
   "nbconvert_exporter": "python",
   "pygments_lexer": "ipython3",
   "version": "3.12.7"
  }
 },
 "nbformat": 4,
 "nbformat_minor": 4
}
